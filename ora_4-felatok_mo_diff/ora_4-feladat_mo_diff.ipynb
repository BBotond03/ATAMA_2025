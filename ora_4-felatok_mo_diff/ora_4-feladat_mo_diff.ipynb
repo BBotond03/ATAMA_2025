{
 "cells": [
  {
   "cell_type": "markdown",
   "metadata": {},
   "source": [
    "# 🕵🏼 **4. Óra:** Differencia számítással megoldható feladatok\n",
    "\n",
    "## 🎯 Küldetés  \n",
    "\n",
    "- Ismétlés\n",
    "- 5 feladat megoldása\n",
    "\n",
    "---\n",
    "\n",
    "## Hasznos linkek  \n",
    "🔍 [Három különböző technika diszkrét kísérleti adatok numerikus deriváltjának kiszámítására Pythonban](https://youtu.be/9G16HYUgENo) "
   ]
  },
  {
   "cell_type": "markdown",
   "metadata": {},
   "source": [
    "### Ismétlés\n",
    "**Definició (Deriválás diszkrét időben)**:\n",
    "\n",
    "Legyen $ x[n] $ egy diszkrét időben definiált jel, és legyen $ \\Delta t $ a mintavételezési idő. A diszkrét időbeli derivált vagy különbségi hányados a következőképpen definiálható:\n",
    "\n",
    "$$\n",
    "x'[n] = \\frac{x[n] - x[n-1]}{\\Delta t}\n",
    "$$\n",
    "\n",
    "Emlékezzünk, hogyan definiáltuk a differencia számító függvényt:\n",
    "```python\n",
    "def deriv(function, time_step):\n",
    "    derivative = []\n",
    "    for i in range(1, len(function)):\n",
    "        derivative.append((function[i] - function[i-1]) / time_step)\n",
    "    return derivative\n",
    "```\n",
    "---\n",
    "#### Ha sikerült elsajátítani az előző alkalmon tanultakat, illetve néha benézegettünk G1/A1-re, felmerülhetnenk bennünk a következő kérdések:\n",
    "- Ezzel a képlettel meg tudjuk határozni az adott jel/függvény/adatsor/... n. mintavételi pontjában a meredekséget, azaz a görbe érintőjét. Ez azt jelenti, hogy tulajdonképpen **meg tudjuk \"jósolni\" merre lesz kb. a következő adatpontunk**?\n",
    "\n",
    "- \"Le tudok tapogatni\" egy ismeretlen görbét ezeknek a kicsi, lokális meredekségeknek a segítségével?\n",
    "\n",
    "- Mi történik, ha a számítógépem által szabott határokig kicsinyítem ${\\Delta t}$-t?\n",
    "\n",
    "- Meg tudom határozni az irányokat, tehát ezek vektorok?? Milyen irányba mutatnak?\n",
    "\n",
    "- Mennyi mindent tudok egy rendszerről azzal, hogy ismerem az állapotát különböző mintavételi pontokban? Mire lehet ezt használni a valóságban?\n",
    "\n",
    "#### 🔭**Ezekre próbálunk választ találni a mai gyakorlaton!**\n"
   ]
  },
  {
   "cell_type": "code",
   "execution_count": null,
   "metadata": {},
   "outputs": [],
   "source": [
    "import numpy as np\n",
    "\n",
    "def deriv(function, time_step):\n",
    "    derivative = []\n",
    "    for i in range(1, len(function)):\n",
    "        derivative.append((function[i] - function[i-1]) / time_step)\n",
    "    return derivative"
   ]
  },
  {
   "cell_type": "markdown",
   "metadata": {},
   "source": [
    "## 1. Feladat: Hullócsillag útjának követése távcsővel 🌠🔭\n",
    "Egy éjjel kiugrasz csillagokat nézni és magaddal viszed a távcsövedet. Egyszercsak észreveszel egy hullócsillagot, amely az égen mozog. A helyzetét rögzíted 5 másodpercenként, egy kis ideig még tudod követni, de hirtelen észreveszed, hogy a csillag már kimozdult a távcsöved látóteréből! A diszkrét különbségek segítségével meg tudod jósolni, hogy hová kell legközelebb irányítanod a távcsövedet? A távcsőbe 5 másodpercenként nézel bele, egészen addig, amíg fázni nem kezdesz 5 eltöltött perc után a hideg éjszakában."
   ]
  },
  {
   "cell_type": "markdown",
   "metadata": {},
   "source": [
    "a) Mi a csillag következő helyzete?"
   ]
  },
  {
   "cell_type": "code",
   "execution_count": null,
   "metadata": {},
   "outputs": [],
   "source": [
    "import matplotlib.pyplot as plt\n",
    "\n",
    "# Időlépés [s]\n",
    "delta_t = 5\n",
    "\n",
    "# Feljegyzett pozíciói a csillagnak\n",
    "x_positions = [10, 20, 40, 70, 110]  # Egyre gyorsul\n",
    "y_positions = [-0.1, -0.525, -1.7, -3.625, -6.3]  # Átlósan halad\n",
    "\n",
    "# Sebesség számítása mind x mind y irányban\n",
    "vx = deriv(x_positions, delta_t)\n",
    "vy = deriv(y_positions, delta_t)\n",
    "\n",
    "# a_x, x irányú gyorsulás:\n",
    "ax = deriv(vx, delta_t)\n",
    "print(ax) # konstans kb\n",
    "\n",
    "# a_y, y irányú gyorsulás:\n",
    "ay = deriv(vy, delta_t)\n",
    "print(ay) # konstans kb\n",
    "\n",
    "# Következő pozíció számítása\n",
    "next_x = x_positions[-1] + vx[-1] * delta_t\n",
    "next_y = y_positions[-1] + vy[-1] * delta_t\n",
    "\n",
    "# Kirajzolás\n",
    "plt.plot(x_positions, y_positions, 'bo-', label='Rögzített pozíciók')\n",
    "plt.plot(next_x, next_y, 'ro', label='Következő pozíció')\n",
    "plt.xlabel('Pozíció X (km)')\n",
    "plt.ylabel('Pozíció Y (km)')\n",
    "plt.legend()\n",
    "plt.title('Hullócsillag következő helyének jóslása')\n",
    "plt.show()\n"
   ]
  },
  {
   "cell_type": "markdown",
   "metadata": {},
   "source": [
    "b) Hogy fog kinézni a pályája, amíg kint tartózkodsz? Hány darab adatpontod lesz?"
   ]
  },
  {
   "cell_type": "code",
   "execution_count": null,
   "metadata": {},
   "outputs": [],
   "source": [
    "# Utolsó feljegyzett értékek a sebesség és a gyorsulás esetén\n",
    "vx_last = \n",
    "vy_last = \n",
    "ax_last = \n",
    "ay_last = \n",
    "\n",
    "num_predictions =   # 5 perc alatt hány adatpont\n",
    "predicted_x = [x_positions[-1]]\n",
    "predicted_y = [y_positions[-1]]\n",
    "\n",
    "for _ in range(num_predictions):\n",
    "    new_x =  # képlet fizika óráról\n",
    "    new_y =\n",
    "    predicted_x.append(new_x)\n",
    "    predicted_y.append(new_y)\n",
    "    \n",
    "    # Sebesség frissítése a gyorsulás \"deriválásával\": a/delta_t\n",
    "    vx_last += ax_last * delta_t\n",
    "    vy_last += ay_last * delta_t\n"
   ]
  },
  {
   "cell_type": "code",
   "execution_count": null,
   "metadata": {},
   "outputs": [],
   "source": [
    "# Plot\n",
    "plt.plot(x_positions, y_positions, 'bo-', label='Rögzített pozíciók')\n",
    "plt.plot(predicted_x, predicted_y, 'r.-', label='Jósolt út')\n",
    "plt.xlabel('Pozíció X (km)')\n",
    "plt.ylabel('Pozíció Y (km)')\n",
    "plt.legend()\n",
    "plt.title('Hullócsillag útja')\n",
    "plt.show()"
   ]
  },
  {
   "cell_type": "markdown",
   "metadata": {},
   "source": [
    "#### Mit veszünk észre?"
   ]
  },
  {
   "cell_type": "markdown",
   "metadata": {},
   "source": [
    "c) Hol lesz a csillag amikor hazaindulsz?"
   ]
  },
  {
   "cell_type": "code",
   "execution_count": null,
   "metadata": {},
   "outputs": [],
   "source": [
    "final_x = \n",
    "final_y = \n",
    "\n",
    "print(f\"Hazainduláskor a hullócsillag várható pozíciója: ({final_x:.1f}, {final_y:.1f}) [km].\")"
   ]
  },
  {
   "cell_type": "markdown",
   "metadata": {},
   "source": [
    "**Mi történik, ha nagyobb frekvenciával nézegetek bele a távcsőbe és jegyzem le a koordinátákat?** (Ez persze emberileg már nem lehetséges)\n",
    "\n",
    "Érezzük hogy a prediktált görbe kevésbé fog \"kiegyenesedni\", jobban fogja közelíteni a valós mozgást."
   ]
  },
  {
   "cell_type": "markdown",
   "metadata": {},
   "source": [
    "## 2. Feladat: Δt csökkentésének hatása a diszkrét idejű deriváltra 🚀✨✨\n",
    "Maradjunk a hullócsillagos példánál, a célunk a pozíciók minél pontosabb prediktálása, ehhez már szoftveres segítséget is igénybe veszünk, hogy lerövidíthessük a mintavételezési időt 1 másodpercre. A modellünk is legyen valóságosabb, a csillag gyorsulása nem konstans.\n"
   ]
  },
  {
   "cell_type": "code",
   "execution_count": null,
   "metadata": {},
   "outputs": [],
   "source": [
    "# Új időlépés\n",
    "delta_t = 1\n",
    "\n",
    "num_predictions = # 1 perc alatt hány adatpontunk lesz\n",
    "predicted_x = [x_positions[-1]]\n",
    "predicted_y = [y_positions[-1]]\n",
    "\n",
    "# Utolsó feljegyzett értékek alapján a sebesség és a gyorsulás init ismét\n",
    "vx_last = \n",
    "vy_last = \n",
    "ax_last = \n",
    "ay_last = \n",
    "\n",
    "# Időtől függő, változó gyorsulás modellezése\n",
    "for t in range(1, num_predictions):\n",
    "    # Szinuszos modell, hogy időben változó legyen a gyorsulás\n",
    "    ax_last = 0.1 * np.sin(0.1 * t) # mindig máshonnan mintavételezünk egy szinusz görbéből\n",
    "    ay_last = 0.1 * np.cos(0.1 * t)\n",
    "    \n",
    "    # Új pozíció\n",
    "    new_x = \n",
    "    new_y = \n",
    "    # Számított értékek hozzáadása a jósolt értékek listáihoz:\n",
    "    \n",
    "    # Sebesség frissítése a gyorsulás \"deriválásával\": a/delta_t\n",
    "    vx_last += ax_last * delta_t\n",
    "    vy_last += ay_last * delta_t\n",
    "\n",
    "# Plot\n",
    "plt.plot(x_positions, y_positions, 'bo-', label='Rögzített pozíciók')\n",
    "plt.plot(predicted_x, predicted_y, 'r.-', label='Jósolt út')\n",
    "plt.xlabel('Pozíció X (km)')\n",
    "plt.ylabel('Pozíció Y (km)')\n",
    "plt.legend()\n",
    "plt.title('Hullócsillag útja')\n",
    "plt.show()\n"
   ]
  },
  {
   "cell_type": "markdown",
   "metadata": {},
   "source": [
    "Vegyük észre a lényeget és hogy ezt hogyan tudjuk valós problémák megoldására használni!"
   ]
  },
  {
   "cell_type": "markdown",
   "metadata": {},
   "source": [
    "## 3. Feladat: Szinusz görbe deriváltjának közelítése\n",
    "Vegyünk egyre csökkenő Δt értékeket és vizsgáljuk meg, milyen pontosan vagyunk képesek megközelíteni a koszinusz görbét!"
   ]
  },
  {
   "cell_type": "code",
   "execution_count": null,
   "metadata": {},
   "outputs": [],
   "source": [
    "import math\n",
    "\n",
    "# Valós szinusz\n",
    "def f(t):\n",
    "    return math.sin(t)\n",
    "\n",
    "# Valós koszinusz\n",
    "def f_prime(t):\n",
    "    return math.cos(t)\n",
    "\n",
    "# Δt értékek\n",
    "delta_ts = [0.5, 0.1, 0.01]\n",
    "\n",
    "plt.figure(figsize=(8, 6))\n",
    "\n",
    "# közelítés differenciákkal\n",
    "for delta_t in delta_ts:\n",
    "    time = [i * delta_t for i in range(int(2 * math.pi / delta_t))]\n",
    "    x_values = [f(t) for t in time]\n",
    "    x_deriv = deriv(x_values, delta_t) # gondoljunk a definícióra\n",
    "    \n",
    "    plt.plot(time[1:], x_deriv, 'o-', label=f'Δt = {delta_t}')\n",
    "\n",
    "# Valós derivált\n",
    "t_fine = [i * 0.01 for i in range(int(2 * math.pi / 0.01))]\n",
    "plt.plot(t_fine, [f_prime(t) for t in t_fine], 'k-', label='Cos(t)')\n",
    "\n",
    "plt.xlabel('Idő (s)')\n",
    "plt.ylabel('Derivált')\n",
    "plt.legend()\n",
    "plt.title('Koszinusz közelítése')\n",
    "plt.show()\n"
   ]
  },
  {
   "cell_type": "markdown",
   "metadata": {},
   "source": [
    "## 4. Feladat: A diszkrét idejű deriváltak vektorként való értelmezése\n",
    "Szemléltessük egy körpályán mozgó tárgy sebességvektorait! Honna tudom, merre mutat a vektor?"
   ]
  },
  {
   "cell_type": "markdown",
   "metadata": {},
   "source": [
    "Kör készítése:\n",
    "\n",
    "A kört **paraméteres egyenletének** kihasználásával készítjük el.  \n",
    "Egy origó középpontú és 1 sugarú kör egyenlete:\n",
    "\n",
    "$$\n",
    "x = \\cos(t)\n",
    "$$\n",
    "\n",
    "$$\n",
    "y = \\sin(t)\n",
    "$$\n",
    "\n",
    "ahol $ t $ az x tengellyel bezárt szög (radiánban), amely $ 0 $-tól $ 2\\pi $-ig terjed.  \n",
    "Ez azt jelenti, hogy:\n",
    "\n",
    "- **$ \\cos t $** határozza meg az $ x $-koordinátát.\n",
    "- **$ \\sin t $** határozza meg az $ y $-koordinátát.\n",
    "- Ahogy $ t $ növekszik $ 0 $-tól $ 2\\pi $-ig, az $(x, y)$ pontok az **egységkör** mentén mozognak az óramutató járásával ellentétes irányban.\n",
    "\n",
    "## Geometriai jelentés\n",
    "\n",
    "| Szög ($ t $) | $ x = \\cos(t) $ | $ y = \\sin(t) $ | Pont |\n",
    "|--------------|----------------|----------------|------|\n",
    "| $ 0 $ | $ 1 $ | $ 0 $ | $ (1,0) $ (jobb széle) |\n",
    "| $ \\pi/2 $| $ 0 $ | $ 1 $ | $ (0,1) $ (teteje) |\n",
    "| $ \\pi $ | $ -1 $ | $ 0 $ | $ (-1,0) $ (bal széle) |\n",
    "| $ 3\\pi/2 $ | $ 0 $ | $ -1 $ | $ (0,-1) $ (alja) |\n",
    "| $ 2\\pi $ | $ 1 $ | $ 0 $ | $ (1,0) $ (visszatér a kiindulópontra) |"
   ]
  },
  {
   "cell_type": "code",
   "execution_count": null,
   "metadata": {},
   "outputs": [],
   "source": [
    "# Időlépés\n",
    "delta_t = 0.1\n",
    "time = [i * delta_t for i in range(int(2 * math.pi / delta_t))] # 1 sugarú körön körbe tudjunk menni: K = 2 * r * pi, mintavételezési pontok\n",
    "\n",
    "# Kör pontjainak generálása\n",
    "x = [math.cos(t) for t in time]\n",
    "y = [math.sin(t) for t in time]\n",
    "\n",
    "# Differenciák számítása\n",
    "dx = deriv(x, delta_t)\n",
    "dy = deriv(y, delta_t)\n",
    "\n",
    "plt.figure(figsize=(6, 6))\n",
    "plt.plot(x, y, 'b-', label='Út')\n",
    "\n",
    "# Quiver plot, ismerős\n",
    "for i in range(len(dx)):\n",
    "    plt.arrow(x[i], y[i], dx[i] * 0.1, dy[i] * 0.1, head_width=0.05, color='r')\n",
    "\n",
    "plt.xlabel('x')\n",
    "plt.ylabel('y')\n",
    "plt.legend()\n",
    "plt.title('Diszkrét differenciák vektorokként')\n",
    "plt.axis('equal')\n",
    "plt.show()\n"
   ]
  },
  {
   "cell_type": "markdown",
   "metadata": {},
   "source": [
    "## 5. Feladat: Részvényár előrejelzés\n",
    "**a)** Szimuláljuk a részvényárfolyamot egy bizonyos időszakban, számítsuk ki az árfolyam változásának mértékét (sebességét), és jósoljuk meg a jövő heti árfolyamot. Tételezzük fel, hogy az árban van némi véletlenszerű ingadozás (volatilitás), ezt modellezzük normál eloszlás segítségével!"
   ]
  },
  {
   "cell_type": "code",
   "execution_count": null,
   "metadata": {},
   "outputs": [],
   "source": [
    "# Mintavételezés (7 naponta, pl. minden hétfőn figyeljük az árát a részvénynek)\n",
    "delta_t = 7\n",
    "time = [i * delta_t for i in range(10)]  # 10 héten át vizsgálódunk\n",
    "\n",
    "# Részvény árak szimulációja [USD]\n",
    "# Feltételezzük, hogy a részvény ára kezdetben 100 USD volt, ez változik véletlenszerűen a megfigyelt időszakban\n",
    "np.random.seed(42)\n",
    "initial_price = 100\n",
    "price_changes = np.random.normal(0, 1, len(time))  # Normál eloszlás szerint mintavételezünk értékeket 0 és 1 között\n",
    "stock_prices = [initial_price + np.sum(price_changes[:i]) for i in range(len(time))] # ezeket hozzáadjuk minden héten az árhoz\n",
    "\n",
    "# Változás sebességének számítása\n",
    "velocity = deriv(stock_prices, delta_t)\n",
    "\n",
    "# Következő ár prediktálása\n",
    "next_price = stock_prices[-1] + velocity[-1] * delta_t\n",
    "\n",
    "print(f\"A jövő heti ár: ${next_price:.2f}\")\n",
    "\n",
    "# Plot\n",
    "plt.plot(time, stock_prices, 'bo-', label='Korábbi árak')\n",
    "plt.plot(time[-1] + delta_t, next_price, 'ro', label='Következő ár')\n",
    "plt.xlabel('Idő (nap)')\n",
    "plt.ylabel('Árfolyam ($)')\n",
    "plt.legend()\n",
    "plt.title('Árfolya előrejelzés differenciával')\n",
    "plt.show()\n"
   ]
  },
  {
   "cell_type": "markdown",
   "metadata": {},
   "source": [
    "#### Mit érzünk, ez mennyire lesz pontos?"
   ]
  },
  {
   "cell_type": "markdown",
   "metadata": {},
   "source": [
    "**b)** Használjuk fel a második deriváltat is! Ebben a feladatrészben már nemcsak a változási sebességet hanem a gyorsulást is figyelembe fogjuk venni, így betekintést nyerünk abba, hogyan változik a részvényár változásának üteme az adott időablakban. A predikciónk ezzel valamennyivel robosztusabbá válik."
   ]
  },
  {
   "cell_type": "code",
   "execution_count": null,
   "metadata": {},
   "outputs": [],
   "source": [
    "# Időintervallumok (7 naponta)\n",
    "delta_t = 7\n",
    "time = [i * delta_t for i in range(10)]\n",
    "\n",
    "# Részvény árak szimulációja [USD]\n",
    "# Feltételezzük, hogy a részvény ára kezdetben 100, és azt valamilyen véletlenszerű ingadozás (volatilitás) befolyásolja\n",
    "np.random.seed(42)\n",
    "initial_price = 100\n",
    "price_changes = np.random.normal(0, 1, len(time))\n",
    "stock_prices = [initial_price + np.sum(price_changes[:i]) for i in range(len(time))]\n",
    "\n",
    "# Sebesség (a részvényárfolyam változási ütemének) kiszámítása\n",
    "velocity =\n",
    "\n",
    "# Gyorsulás (a sebesség változási ütemének) kiszámítása\n",
    "acceleration =\n",
    "\n",
    "# Előrejelzés a következő részvényárra a sebesség és gyorsulás figyelembevételével\n",
    "next_velocity =  # Következő sebesség előrejelzése\n",
    "next_price = # Következő részvényár előrejelzése\n",
    "\n",
    "# Előrejelzés kiírása\n",
    "print(f\"A jövő heti ár: ${next_price:.2f}\")\n",
    "\n",
    "# A részvényár grafikonjának megjelenítése\n",
    "plt.plot(time, stock_prices, 'bo-', label='Korábbi árak')\n",
    "plt.plot(time[-1] + delta_t, next_price, 'ro', label='Előrejelzett következő ár')\n",
    "plt.xlabel('Idő (nap)')\n",
    "plt.ylabel('Árfolyam ($)')\n",
    "plt.legend()\n",
    "plt.title('Részvényár előrejelzés diszkrét különbségekkel, sebesség és gyorsulás használatával')\n",
    "plt.show()"
   ]
  },
  {
   "cell_type": "markdown",
   "metadata": {},
   "source": [
    "#### Bár ez egy egyszerű modell, jól mutatja a diszkrét deriváltak erejét dinamikus rendszerek, pl. a részvényárak modellezésében.\n",
    "#### Hogyan lehetne ezen a modellen javíteni?\n",
    "- Magasabb rendű deriváltak használata: a gyorsulás változásának számításával várhatóan tovább finomíthatjuk a predikciókat.\n",
    "- Nem egyenletes időintervallumok vétele.\n",
    "- Fejlettebb volatilitás modellek használata: a volatilitás modellezésének javítása fejlettebb technikák, pl. GARCH alkalmazásával."
   ]
  },
  {
   "cell_type": "markdown",
   "metadata": {},
   "source": [
    "**c)** Predikciónk jóságának ellenőrzése valós részvényár-változásokkal való összehasonlítással. Vegyük figyelembe a gyorsulást is!"
   ]
  },
  {
   "cell_type": "code",
   "execution_count": null,
   "metadata": {},
   "outputs": [],
   "source": [
    "pip install yfinance"
   ]
  },
  {
   "cell_type": "code",
   "execution_count": null,
   "metadata": {},
   "outputs": [],
   "source": [
    "import yfinance as yf\n",
    "import pandas as pd\n",
    "\n",
    "# Árfolyam adatok letöltése (pl. Tesla a legutbbi 30 napban)\n",
    "stock_symbol = 'TSLA'  # Tesla részvény\n",
    "data = yf.download(stock_symbol, period='30d', interval='1d')\n",
    "\n",
    "# Csak a záróárak használata\n",
    "stock_prices = data['Close'].values\n",
    "\n",
    "# Csak az első 28 napot használjuk előrejelzéshez\n",
    "train_prices = stock_prices[:28]\n",
    "\n",
    "# Időintervallumok (1 nap)\n",
    "delta_t = 1 \n",
    "time = np.arange(len(train_prices)) # egy megadott tartományban egyenletesen elosztott értékeket tartalmazó tömböt hozunk létre\n",
    "\n",
    "# Sebesség (a részvényárfolyam változási ütemének) kiszámítása\n",
    "velocity = deriv(train_prices,delta_t)\n",
    "\n",
    "# Gyorsulás (a sebesség változási ütemének) kiszámítása\n",
    "acceleration = deriv(velocity, delta_t)\n",
    "\n",
    "# Az utolsó ismert értékek\n",
    "last_price = train_prices[-1].item()\n",
    "last_velocity = velocity[-1].item()\n",
    "last_acceleration = acceleration[-1].item()\n",
    "\n",
    "predicted_prices = [last_price]\n",
    "for _ in range(2):\n",
    "    last_price += last_velocity * delta_t + 0.5 * last_acceleration * delta_t**2\n",
    "\n",
    "    if isinstance(last_price, np.ndarray): # ha véletlen array elem lenne ami kijön\n",
    "        predicted_prices.append(last_price[-1])\n",
    "    else:\n",
    "        predicted_prices.append(last_price)\n",
    "   \n",
    "    last_velocity = deriv(predicted_prices,delta_t)\n",
    "    last_velocity=last_velocity[-1]\n",
    "    velocity.append(last_velocity)\n",
    "    last_acceleration = deriv(velocity,delta_t)\n",
    "    last_acceleration = last_acceleration[-1]\n",
    "\n",
    "# Tényleges árak 29. és 30. napokon\n",
    "actual_prices = stock_prices[28:30]\n",
    "\n",
    "# Plot\n",
    "plt.plot(time, train_prices, 'bo-', label='Ismert valós adatok (28 nap)')\n",
    "plt.plot([28, 29], actual_prices, 'go', label='Tényleges árak (29-30. napok)')\n",
    "plt.plot([28, 29], predicted_prices[-2:], 'ro', label='Előrejelzett árak (29-30. napok)')\n",
    "plt.xlabel('Idő (nap)')\n",
    "plt.ylabel('Árfolyam ($)')\n",
    "plt.legend()\n",
    "plt.title(f'{stock_symbol} Árfolyam előrejelzés jóságának vizsgálata')\n",
    "plt.show()"
   ]
  },
  {
   "cell_type": "markdown",
   "metadata": {},
   "source": [
    "---"
   ]
  },
  {
   "cell_type": "markdown",
   "metadata": {},
   "source": [
    "## Házi Feladat: Diszkrét különbségek felhasználása a népességnövekedés előrejelzésére\n",
    "A feladat célja, hogy a következő 10 év népesség növekedését előrejelezzük egy egyszerű diszkrét differenciálás módszer segítségével. A növekedés gyorsasága évi 5%."
   ]
  },
  {
   "cell_type": "code",
   "execution_count": null,
   "metadata": {},
   "outputs": [],
   "source": [
    "# Évente népszámlálás, utóbbi 10 év adatait használjuk fel\n",
    "delta_t = 1\n",
    "time = #készítsünk egy tömböt\n",
    "\n",
    "# Népesség (tfh. 100-ról indulunk)\n",
    "population = # tömbbe szintén, hogyan változik évről évre a népesség, valami függvényt gondoljunk ki!\n",
    "\n",
    "# Növekedés üteme (deriválás)\n",
    "growth_rate =\n",
    "\n",
    "# Következő évi népességszám predikció\n",
    "next_population =\n",
    "\n",
    "print(f\"A következő évi népszámláláson várható: {next_population:.2f} fő\")\n",
    "\n",
    "# Plot\n",
    "plt.plot(time, population, 'bo-', label='Népesség')\n",
    "plt.plot(time[:-1], growth_rate, 'r--', label='Növekedési ráta')\n",
    "plt.xlabel('Idő (év)')\n",
    "plt.ylabel('Népesség')\n",
    "plt.legend()\n",
    "plt.title('Népesség növekedése')\n",
    "plt.show()\n"
   ]
  }
 ],
 "metadata": {
  "kernelspec": {
   "display_name": "Python 3",
   "language": "python",
   "name": "python3"
  },
  "language_info": {
   "codemirror_mode": {
    "name": "ipython",
    "version": 3
   },
   "file_extension": ".py",
   "mimetype": "text/x-python",
   "name": "python",
   "nbconvert_exporter": "python",
   "pygments_lexer": "ipython3",
   "version": "3.10.5"
  }
 },
 "nbformat": 4,
 "nbformat_minor": 2
}
