{
 "cells": [
  {
   "cell_type": "markdown",
   "id": "11a1e6f7-116b-4422-8e1c-53bbd1174405",
   "metadata": {},
   "source": [
    "# ✨ **2. Óra:** Lineáris Transzformációk\n",
    "\n",
    "## 🎯 Küldetés  \n",
    "\n",
    "- **Mátrixok**  \n",
    "<div style=\"display: flex; justify-content: center;\">\n",
    "    <table align=\"center\">\n",
    "        <tr>\n",
    "            <td><img src=\"ora_2_theMatrix.jpg\" width=\"100\"></td>\n",
    "            <td><img src=\"ora_2_theMatrix.jpg\" width=\"100\"></td>\n",
    "        </tr>\n",
    "        <tr>\n",
    "            <td><img src=\"ora_2_theMatrix.jpg\" width=\"100\"></td>\n",
    "            <td><img src=\"ora_2_theMatrix.jpg\" width=\"100\"></td>\n",
    "        </tr>\n",
    "    </table>\n",
    "</div>\n",
    "\n",
    "- **Megismerkedés az osztályokkal, komplex osztály definiálása**  \n",
    "- **Kirajzolás (Matplotlib alapjai)**  \n",
    "<div style=\"text-align: center;\">\n",
    "    <img src=\"ora_2_visualisation.gif\" width=\"600\">\n",
    "</div>  \n",
    "\n",
    "- **Lineáris transzformációk** (elmélet gyors ismétlése)  \n",
    "- **Lineáris transzformációk a gyakorlatban**  \n",
    "- **Önálló feladat**  \n",
    "\n",
    "---\n",
    "\n",
    "## Hasznos linkek  \n",
    "🔍 [Osztályok 1.5 percben](https://www.youtube.com/watch?v=yYALsys-P_w) \n",
    "\n",
    "🔍 [Matplotlib alapok](https://www.youtube.com/watch?v=D4VlmL3G4_o)\n",
    "\n",
    "🔍 [Ultimate lineáris algebra playlist](https://www.youtube.com/playlist?list=PLZHQObOWTQDPD3MizzM2xVFitgF8hE_ab)\n"
   ]
  },
  {
   "cell_type": "markdown",
   "id": "4c640b77",
   "metadata": {},
   "source": [
    "---"
   ]
  },
  {
   "cell_type": "markdown",
   "id": "fd353539",
   "metadata": {},
   "source": [
    "## Mátrixok"
   ]
  },
  {
   "cell_type": "markdown",
   "id": "7ea9b7ac",
   "metadata": {},
   "source": [
    "A mátrixok pythonban tulajdonképpen több dimenziós tömbök (array) és több különböző könyvtár használatával is megadhatók. Leggyakrabban a NumPy-t vagy a SymPy-t használjuk, az előbbit inkább numerikus számítások esetén, míg az utóbbit szimbolikus feladatok megoldása esetén."
   ]
  },
  {
   "cell_type": "markdown",
   "id": "d9c63c58",
   "metadata": {},
   "source": [
    "NumPy használatával:"
   ]
  },
  {
   "cell_type": "code",
   "execution_count": 2,
   "id": "fbc5dc43",
   "metadata": {},
   "outputs": [
    {
     "name": "stdout",
     "output_type": "stream",
     "text": [
      "Collecting numpy\n",
      "  Downloading numpy-2.2.2-cp310-cp310-win_amd64.whl (12.9 MB)\n",
      "     ---------------------------------------- 12.9/12.9 MB 1.2 MB/s eta 0:00:00\n",
      "Installing collected packages: numpy\n",
      "Successfully installed numpy-2.2.2\n",
      "Note: you may need to restart the kernel to use updated packages.\n"
     ]
    },
    {
     "name": "stderr",
     "output_type": "stream",
     "text": [
      "  WARNING: The scripts f2py.exe and numpy-config.exe are installed in 'c:\\Users\\Eszter\\AppData\\Local\\Programs\\Python\\Python310\\Scripts' which is not on PATH.\n",
      "  Consider adding this directory to PATH or, if you prefer to suppress this warning, use --no-warn-script-location.\n",
      "WARNING: You are using pip version 22.0.4; however, version 25.0 is available.\n",
      "You should consider upgrading via the 'c:\\Users\\Eszter\\AppData\\Local\\Programs\\Python\\Python310\\python.exe -m pip install --upgrade pip' command.\n"
     ]
    }
   ],
   "source": [
    "pip install numpy"
   ]
  },
  {
   "cell_type": "code",
   "execution_count": 7,
   "id": "b030f61d",
   "metadata": {},
   "outputs": [
    {
     "name": "stdout",
     "output_type": "stream",
     "text": [
      "[[1 2]\n",
      " [3 4]]\n"
     ]
    }
   ],
   "source": [
    "import numpy as np\n",
    "\n",
    "# 2x2-es mátrix definiálása\n",
    "\n",
    "A = np.array([[1, 2], \n",
    "              [3, 4]])\n",
    "\n",
    "print(A)"
   ]
  },
  {
   "cell_type": "code",
   "execution_count": 9,
   "id": "7065a233",
   "metadata": {},
   "outputs": [],
   "source": [
    "# Egyszerű műveletek:\n",
    "A_transposed = A.T  # Transzponálás\n",
    "det_A = np.linalg.det(A)  # Determináns számítás\n",
    "inv_A = np.linalg.inv(A)  # Invertálás (ha nem létezik az inverz: LinAlgError-t fog dobni)"
   ]
  },
  {
   "cell_type": "markdown",
   "id": "909afdf2",
   "metadata": {},
   "source": [
    "SymPy használatával:"
   ]
  },
  {
   "cell_type": "code",
   "execution_count": 4,
   "id": "7d11c26a",
   "metadata": {},
   "outputs": [
    {
     "name": "stdout",
     "output_type": "stream",
     "text": [
      "Collecting sympyNote: you may need to restart the kernel to use updated packages.\n"
     ]
    },
    {
     "name": "stderr",
     "output_type": "stream",
     "text": [
      "  WARNING: The script isympy.exe is installed in 'c:\\Users\\Eszter\\AppData\\Local\\Programs\\Python\\Python310\\Scripts' which is not on PATH.\n",
      "  Consider adding this directory to PATH or, if you prefer to suppress this warning, use --no-warn-script-location.\n",
      "WARNING: You are using pip version 22.0.4; however, version 25.0 is available.\n",
      "You should consider upgrading via the 'c:\\Users\\Eszter\\AppData\\Local\\Programs\\Python\\Python310\\python.exe -m pip install --upgrade pip' command.\n"
     ]
    },
    {
     "name": "stdout",
     "output_type": "stream",
     "text": [
      "\n",
      "  Downloading sympy-1.13.3-py3-none-any.whl (6.2 MB)\n",
      "     ---------------------------------------- 6.2/6.2 MB 1.7 MB/s eta 0:00:00\n",
      "Collecting mpmath<1.4,>=1.1.0\n",
      "  Downloading mpmath-1.3.0-py3-none-any.whl (536 kB)\n",
      "     -------------------------------------- 536.2/536.2 KB 1.9 MB/s eta 0:00:00\n",
      "Installing collected packages: mpmath, sympy\n",
      "Successfully installed mpmath-1.3.0 sympy-1.13.3\n"
     ]
    }
   ],
   "source": [
    "pip install sympy"
   ]
  },
  {
   "cell_type": "code",
   "execution_count": 10,
   "id": "cdc5184d",
   "metadata": {},
   "outputs": [
    {
     "name": "stdout",
     "output_type": "stream",
     "text": [
      "Matrix([[1, 2], [3, 4]])\n"
     ]
    }
   ],
   "source": [
    "import sympy as sp\n",
    "\n",
    "# Szimbolikus mátrix definiálása\n",
    "\n",
    "B = sp.Matrix([[1, 2], \n",
    "               [3, 4]])\n",
    "\n",
    "print(B)"
   ]
  },
  {
   "cell_type": "code",
   "execution_count": 13,
   "id": "01376c5f",
   "metadata": {},
   "outputs": [],
   "source": [
    "# Néhány művelet:\n",
    "B_inv = B.inv()  # Inverz számítása (ha nem létezik: NonInvertibleMatrixError)\n",
    "B_det = B.det()  # Determináns\n",
    "B_eigen = B.eigenvals()  # Sajátértékek"
   ]
  },
  {
   "cell_type": "markdown",
   "id": "2aef6768",
   "metadata": {},
   "source": [
    "## Osztályok"
   ]
  },
  {
   "cell_type": "code",
   "execution_count": null,
   "id": "afbc7820",
   "metadata": {},
   "outputs": [],
   "source": []
  }
 ],
 "metadata": {
  "kernelspec": {
   "display_name": "Python 3 (ipykernel)",
   "language": "python",
   "name": "python3"
  },
  "language_info": {
   "codemirror_mode": {
    "name": "ipython",
    "version": 3
   },
   "file_extension": ".py",
   "mimetype": "text/x-python",
   "name": "python",
   "nbconvert_exporter": "python",
   "pygments_lexer": "ipython3",
   "version": "3.10.5"
  }
 },
 "nbformat": 4,
 "nbformat_minor": 5
}
