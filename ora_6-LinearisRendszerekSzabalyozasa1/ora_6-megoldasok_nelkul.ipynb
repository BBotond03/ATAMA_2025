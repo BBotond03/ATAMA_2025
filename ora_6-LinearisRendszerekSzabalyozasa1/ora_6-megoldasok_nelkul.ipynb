{
 "cells": [
  {
   "cell_type": "markdown",
   "metadata": {},
   "source": [
    "# 🕵🏼 **6. Óra:** Lineáris rendszer szabályozása\n",
    "\n",
    "## 🎯 Küldetés  \n",
    "\n",
    "- Ismétlés (diszkrét deriválás és trapéz módszer)\n",
    "- Bevezetés a PID szabályozásba\n",
    "- Szabályozási feladat megoldása\n",
    "\n",
    "---\n",
    "\n",
    "## Hasznos linkek  \n",
    "🔍 [Lényegretörő bevezetés a PID szabályozásba](https://www.youtube.com/watch?v=UR0hOmjaHp0) \n",
    "\n",
    "🔍 [Egy egyszerű példa](https://www.youtube.com/watch?v=XfAt6hNV8XM)"
   ]
  },
  {
   "cell_type": "markdown",
   "metadata": {},
   "source": [
    "## Ismétlés"
   ]
  },
  {
   "cell_type": "markdown",
   "metadata": {},
   "source": [
    "### Deriválás diszkrét időben\n",
    "Legyen $ x[n] $ egy diszkrét időben definiált jel, és legyen $ \\Delta t $ a mintavételezési idő. A diszkrét időbeli derivált vagy különbségi hányados a következőképpen definiálható:\n",
    "\n",
    "$$\n",
    "x'[n] = \\frac{x[n] - x[n-1]}{\\Delta t}\n",
    "$$\n",
    "\n",
    "A már jól ismért differencia számító függvényt fogjuk alkalmazni:\n",
    "```python\n",
    "def deriv(function, time_step):\n",
    "    derivative = []\n",
    "    for i in range(1, len(function)):\n",
    "        derivative.append((function[i] - function[i-1]) / time_step)\n",
    "    return derivative\n",
    "```"
   ]
  },
  {
   "cell_type": "markdown",
   "metadata": {},
   "source": [
    "### Numerikus integrálás trapéz módszerrrel\n",
    "Az interpoláló függvény egy egyenes vonal lehet (azaz egy 1-es fokú polinom), amely áthalad az $ (a, f(a)) $ és $ (b, f(b)) $ pontokon. Ezt hívjuk **trapéz szabálynak**, amely a következőképpen van megadva:\n",
    "\n",
    "$$\n",
    "\\int_a^b f(x) \\, dx \\approx (b - a) \\left( \\frac{f(a) + f(b)}{2} \\right)\n",
    "$$\n",
    "\n",
    "<center>\n",
    "  <img src=\"Integration_trapezoid.png\" width=\"500\" style=\"background-color: white;\" />\n",
    "</center>\n",
    "\n",
    "Ezt már megtanultuk korábban implementálni a következő módon, egység hosszú intervallumok esetén:\n",
    "```python\n",
    "def trapezoidal_integral(function, time_step):\n",
    "    integral = [0]\n",
    "    comulative_sum = 0\n",
    "    for i in range(1, len(function)):\n",
    "        comulative_sum += time_step * (function[i-1] + function[i]) / 2\n",
    "        integral.append(comulative_sum)\n",
    "    return integral\n",
    "```"
   ]
  },
  {
   "cell_type": "markdown",
   "metadata": {},
   "source": [
    "## Bevezetés a PID szabályozásba"
   ]
  },
  {
   "cell_type": "markdown",
   "metadata": {},
   "source": [
    "A PID (Arányos-Integráló-Deriváló) szabályozó az egyik legelterjedtebb szabályozási módszer az iparban és a mérnöki gyakorlatban. Alapelve, hogy a rendszer **eltérését** (hibáját) a kívánt, ún. **referencia értéktől** három komponens segítségével kompenzálni tudjuk, így a számunkra megfelelő állapotba juttatva a rendszert:  \n",
    "\n",
    "1. **Arányos (P) tag:** A jelenlegi hibaérték alapján határozza meg a szabályozó válaszát. Minél nagyobb az eltérés, annál nagyobb a beavatkozás.\n",
    "2. **Integráló (I) tag:** A múltbeli hibák összegzésével korrigálja az esetleges állandósult hibát.\n",
    "3. **Deriváló (D) tag:** A hiba változási sebessége alapján reagál, csökkentve a túllövést és a rendszer ingadozását.\n",
    "\n",
    "A PID szabályozó kimenete az alábbi egyenlet szerint számítható, ez lesz a beavatkozó jelünk, amit kiadunk a rendszerre:  \n",
    "\n",
    "$$\n",
    "u(t) = K_p e(t) + K_i \\int e(t) dt + K_d \\frac{de(t)}{dt}\n",
    "$$\n",
    "\n",
    "ahol:  \n",
    "- $ e(t) $ a hiba (az eltérés a kívánt értéktől),  \n",
    "- $ K_p $, $ K_i $ és $ K_d $ a szabályozó erősítési tényezői (súlyok), ezeket mi hangoljuk be, hogy elérjük a kívánt viselkedést.\n",
    "\n",
    "<center>\n",
    "  <img src=\"PID_control.png\" width=\"500\" style=\"background-color: white;\" />\n",
    "</center>\n",
    "\n",
    "### A PID szabályozás előnyei\n",
    "- Képes minimalizálni a szabályozási hibát.\n",
    "- Rugalmas és sokféle rendszerhez alkalmazható.\n",
    "- Az integráló tag kiküszöböli az állandósult hibát, míg a deriváló tag csökkenti az ingadozást (túllövést).\n",
    "\n",
    "### Hol használják?\n",
    "A PID szabályozót széles körben alkalmazzák például:\n",
    "- Robotkarok pozíciószabályozásában,\n",
    "- Hőmérséklet-szabályozásban,\n",
    "- Motorok fordulatszám-szabályozásában,\n",
    "- Drónok egyensúlyozásában.\n"
   ]
  },
  {
   "cell_type": "markdown",
   "metadata": {},
   "source": [
    "## Első szabályozási feladatunk: inverz inga"
   ]
  },
  {
   "cell_type": "markdown",
   "metadata": {},
   "source": [
    "<center>\n",
    "  <img src=\"pendulum.png\" width=\"500\" style=\"background-color: white;\" />\n",
    "</center>"
   ]
  },
  {
   "cell_type": "markdown",
   "metadata": {},
   "source": [
    "🔍 [Inverz inga szimulátor](https://codepen.io/oscarsaharoy/full/LYbmVma)"
   ]
  },
  {
   "cell_type": "markdown",
   "metadata": {},
   "source": [
    "### Importok"
   ]
  },
  {
   "cell_type": "code",
   "execution_count": 1,
   "metadata": {},
   "outputs": [],
   "source": [
    "import numpy as np\n",
    "import matplotlib.pyplot as plt"
   ]
  },
  {
   "cell_type": "markdown",
   "metadata": {},
   "source": [
    "### Az ismerős függvények"
   ]
  },
  {
   "cell_type": "code",
   "execution_count": null,
   "metadata": {},
   "outputs": [],
   "source": [
    "def deriv(function, time_step):\n",
    "    derivative = []\n",
    "    for i in range(1, len(function)):\n",
    "        derivative.append((function[i] - function[i-1]) / time_step)\n",
    "    return derivative\n",
    "\n",
    "def trapezoidal_integral(function, time_step):\n",
    "    integral = [0]\n",
    "    cumulative_sum = 0\n",
    "    for i in range(1, len(function)):\n",
    "        cumulative_sum += time_step * (function[i-1] + function[i]) / 2\n",
    "        integral.append(cumulative_sum)\n",
    "    return integral"
   ]
  },
  {
   "cell_type": "code",
   "execution_count": null,
   "metadata": {},
   "outputs": [],
   "source": [
    "# Rendszerparaméterek\n",
    "dt = 0.02  # Időlépés\n",
    "g = 9.81   # Gravitáció\n",
    "l = 0.5    # Inga hossza\n",
    "m = 0.1    # Inga tömege\n",
    "M = 1.0    # Cart mass\n",
    "b = 0.1    # Friction\n",
    "\n",
    "# PID Gains\n",
    "Kp = 50     # Proportional gain\n",
    "Ki = 5      # Integral gain\n",
    "Kd = 10     # Derivative gain\n",
    "\n",
    "# Simulation setup\n",
    "T = 5  # Total simulation time\n",
    "N = int(T / dt)\n",
    "\n",
    "# Initial conditions\n",
    "theta = np.pi + 0.1  # Initial angle (small deviation)\n",
    "x = 0  # Cart position\n",
    "x_dot = 0  # Cart velocity\n",
    "\n",
    "# Data logging\n",
    "theta_list = [theta]  # Store theta values\n",
    "error_list = [theta - np.pi]  # Store error (theta - desired theta)\n",
    "control_list = []  # Store control force values\n",
    "\n",
    "# Simulation loop\n",
    "for _ in range(N - 1):\n",
    "    # Compute control force (PID control)\n",
    "    error = theta_list[-1] - np.pi\n",
    "    error_list.append(error)\n",
    "    \n",
    "    # Compute PID terms\n",
    "    P_term = Kp * error\n",
    "    I_term = Ki * trapezoidal_integral(error_list, dt)[-1]  # Integral of error\n",
    "    D_term = Kd * (0 if len(error_list) == 1 else deriv(error_list, dt)[-1])  # Derivative of error\n",
    "    \n",
    "    u = -(P_term + I_term + D_term)  # Control force applied to cart\n",
    "\n",
    "    # Dynamics (simplified)\n",
    "    x_ddot = (u - b * x_dot) / M\n",
    "    theta_ddot = (g / l) * np.sin(theta_list[-1]) + (x_ddot / l) * np.cos(theta_list[-1])\n",
    "\n",
    "    # Integrate to get new state\n",
    "    x_dot += x_ddot * dt\n",
    "    x += x_dot * dt\n",
    "    theta_list.append(theta_list[-1] + dt * (0 if len(theta_list) == 1 else deriv(theta_list, dt)[-1]))  # Update theta\n",
    "    control_list.append(u)\n",
    "\n",
    "# Compute derivatives after the loop\n",
    "theta_dot_list = deriv(theta_list, dt)\n",
    "theta_ddot_list = deriv(theta_dot_list, dt)\n",
    "\n",
    "# Plot results\n",
    "time_axis = np.linspace(0, T, N - 1)\n",
    "\n",
    "plt.figure(figsize=(10, 5))\n",
    "\n",
    "plt.subplot(2, 1, 1)\n",
    "plt.plot(time_axis, theta_list[:-1], label=\"Theta (rad)\")\n",
    "plt.xlabel(\"Time [s]\")\n",
    "plt.ylabel(\"Pendulum Angle [rad]\")\n",
    "plt.title(\"Inverted Pendulum Control\")\n",
    "plt.legend()\n",
    "plt.grid()\n",
    "\n",
    "plt.subplot(2, 1, 2)\n",
    "plt.plot(time_axis, control_list, label=\"Control Force (N)\", color='red')\n",
    "plt.xlabel(\"Time [s]\")\n",
    "plt.ylabel(\"Control Input (N)\")\n",
    "plt.legend()\n",
    "plt.grid()\n",
    "\n",
    "plt.tight_layout()\n",
    "plt.show()\n"
   ]
  }
 ],
 "metadata": {
  "kernelspec": {
   "display_name": "Python 3",
   "language": "python",
   "name": "python3"
  },
  "language_info": {
   "codemirror_mode": {
    "name": "ipython",
    "version": 3
   },
   "file_extension": ".py",
   "mimetype": "text/x-python",
   "name": "python",
   "nbconvert_exporter": "python",
   "pygments_lexer": "ipython3",
   "version": "3.10.5"
  }
 },
 "nbformat": 4,
 "nbformat_minor": 2
}
