{
 "cells": [
  {
   "cell_type": "markdown",
   "metadata": {},
   "source": [
    "# **1. Óra - Bevezetés, Numerikus sorozatok**\n",
    "\n",
    "## **Bevezetés**\n",
    "\n",
    "### **Mi az a Python?**\n",
    "\n",
    "- A Python magas szintű, objektumorientált programozási nyelv, amely olvashatóságáról és egyszerűségéről ismert.\n",
    "- Számos beépített könyvtára van, amely sok feladat megoldását nagyon gyorssá és egyszerűvé teszi.\n",
    "- A Python rendkívül sokoldalú, használható webfejlesztésre, adatelemzésre, mesterséges inteligencia alapú modellek készítésére, gépi tanulásra, automatizálásra, és még sok másra.\n",
    "\n",
    "<p align=\"center\">\n",
    "  <img src=\"abs.png\" width=\"50%\"/>\n",
    "</p>\n",
    "\n",
    "### Miért használjuk?\n",
    "\n",
    "- **Sokoldalú felhasználás:** A Python-t rengeteg különböző területen alkalmazzák, így bármilyen szinten lévő fejlesztő számára hasznos lehet.\n",
    "- **Nagy közösség és eszköztár:** A Python-hoz egy hatalmas közösség tartozik, amely folyamatosan fejleszti és bővíti a programozási nyelvet. Ennek köszönhetően könnyen találhatók könyvtárak és kész kódok, amelyekkel gyorsan megoldhatók a feladatok.\n",
    "- **Olvashatóság és gyors fejlesztés:** A kód könnyen olvasható és karbantartható, ami növeli a produktivitást.\n",
    "\n",
    "### Hátrányai\n",
    "\n",
    "- **Magas absztrakciós szint:** Mivel a Python magas szintű nyelv, nem ad annyi közvetlen kontrollt a rendszer működése felett, mint például a C vagy C++. Ez néha teljesítménybeli hátrányokat eredményezhet.\n",
    "- **Teljesítmény:** Python nem a leggyorsabb, mivel egy interpretált nyelv, így nem mindig ideális időkritikus alkalmazásokhoz.\n",
    "- **Futtatás eltérései:** Mivel a Python interpreterei és a futtatókörnyezetek eltérhetnek, előfordulhatnak futtatásbeli eltérések különböző gépeken."
   ]
  },
  {
   "cell_type": "markdown",
   "metadata": {},
   "source": [
    "### **Változók és Aritmetikai műveletek**\n",
    "\n",
    "Adatokat, mint minden más programozási nyelvben, változókban tárolunk.\n",
    "\n",
    "A változók tulajdonságai:\n",
    "- **Név:** Érdemes beszélő neveket használni. Például nem szerencsés változónév: `dkjfa`, egy szerencsésebb változónév: `myApple`.\n",
    "- **Típus:** Pythonban minden változó osztályként létezik, és úgynevezett 'dynamic type'-ot használ, azaz nem szükséges megadni a változó típusát deklarációkor. (Ezen kívül 'dynamic cast'-ra is van lehetőség.)\n",
    "- **Érték:** A Python nyelvben szinte bármit eltárolhatunk változókban: egész számokat, tizedes törteket, szöveget, de akár teljes grafikonokat, képeket, vagy komplett neurális háló modelleket is!\n",
    "\n",
    "A kiíratás a `print()` függvénnyel történik, amelyhez megadhatunk változókat és szöveget is. Ha több stringet össze akarunk fűzni, a `+` operátor alkalmazandó.\n"
   ]
  },
  {
   "cell_type": "code",
   "execution_count": 8,
   "metadata": {},
   "outputs": [
    {
     "name": "stdout",
     "output_type": "stream",
     "text": [
      "Az a változó értéke: 5 és típusa: <class 'int'>\n",
      "Az b változó értéke: -7.2 és típusa: <class 'float'>\n",
      "Az c változó értéke: [1, 2, 3] és típusa: <class 'list'>\n",
      "Az d változó értéke: szöveg és típusa: <class 'str'>\n",
      "A lista hossza: 3\n"
     ]
    }
   ],
   "source": [
    "a = 5\n",
    "print(\"Az a változó értéke:\", a, \"és típusa:\", type(a))\n",
    "\n",
    "b = -7.2\n",
    "print(\"Az b változó értéke:\", b, \"és típusa:\", type(b))\n",
    "\n",
    "c = [1, 2, 3]\n",
    "print(\"Az c változó értéke:\", c, \"és típusa:\", type(c))\n",
    "\n",
    "d = \"szöveg\"\n",
    "print(\"Az d változó értéke:\", d, \"és típusa:\", type(d))\n",
    "\n",
    "# Tömbök hossza\n",
    "print(\"A lista hossza:\", len(c))\n"
   ]
  },
  {
   "cell_type": "markdown",
   "metadata": {},
   "source": [
    "## **2. Numerikus sorozatok**\n",
    "\n",
    "- **Definíció (Numerikus sorozat):** Egyértelmű hozzárendelés, amely az alaphalmaz minden eleméhez (természetes számok) pontosan egy elemet rendel a képhalmazból (valós számok).\n"
   ]
  },
  {
   "cell_type": "markdown",
   "metadata": {},
   "source": [
    "### **Mi kell a megvalósításhoz?**"
   ]
  },
  {
   "cell_type": "markdown",
   "metadata": {},
   "source": [
    "#### **Tároló**\n",
    "\n",
    "Valamilyen tömbre lesz szükségünk az adatok tárolásához. Két fő tömb típus létezik:\n",
    "\n",
    "1. **Statikus tömb:**\n",
    "   - A statikus tömb mérete előre meghatározott és nem változtatható meg futás közben.\n",
    "   - Az elemek száma fix, és nem lehet dinamikusan hozzáadni vagy eltávolítani elemeket.\n",
    "   - Az ilyen típusú tömbök jellemzően gyorsak és memóriahatékonyak, mivel a memóriafoglalás előre meg van határozva, de nem rugalmasak, ha az adatok száma változik.\n",
    "   - Például: tömbök (arrays) a legtöbb programozási nyelvben.\n",
    "\n",
    "2. **Dinamikus tömb:**\n",
    "   - A dinamikus tömb mérete futás közben változhat, azaz új elemeket adhatunk hozzá vagy eltávolíthatunk.\n",
    "   - A memóriafoglalás dinamikusan történik, tehát nem szükséges előre meghatározni a tömb méretét.\n",
    "   - Az ilyen típusú tömbök rugalmasak és képesek kezelni a változó méretű adatokat, azonban kisebb teljesítményűek lehetnek a statikus tömbökkel szemben, mivel folyamatos memória-átcsoportosítást igényelhetnek.\n",
    "   - Például: Python tömb (list) típus, vagy láncolt lista (linked list) más programozási nyelvekben."
   ]
  },
  {
   "cell_type": "code",
   "execution_count": 12,
   "metadata": {},
   "outputs": [],
   "source": [
    "#hozzuk létre a sorozat változót, ez egy üres láncolt lista\n",
    "sorozat = []"
   ]
  },
  {
   "cell_type": "markdown",
   "metadata": {},
   "source": [
    "#### **Műveletek**\n",
    "\n",
    "Van értékadó operátorunk. Ez az `=`. Ezen kívül vannak összeadó `+`, kivonó `-`, szorzó `*`, osztó `/`, maradékos osztás `%`, és hatványozó `**` operátorok is.\n",
    "\n",
    "Az érték változtató operátorokat rövidítve is használhatjuk:\n",
    "- `a = a + 1` → `a += 1`\n",
    "- `a = a - 1` → `a -= 1`\n",
    "- `a = a * 2` → `a *= 2`\n",
    "- `a = a / 2` → `a /= 2`\n",
    "- `a = a ** 2` → `a **= 2`\n",
    "- `a = a % 2` → `a %= 2`\n"
   ]
  },
  {
   "cell_type": "markdown",
   "metadata": {},
   "source": [
    "#### **Ciklusok**\n",
    "Pythonban két fő ciklus típust alkalmazunk: `for` és `while` ciklust.\n",
    "\n",
    "- **`for` ciklus**:  \n",
    "  A `for` ciklus akkor használatos, ha egy iterálható objektum (például lista, tuple, sztring vagy egy tartomány) elemein szeretnénk végigiterálni.\n",
    "\n",
    "  **Szintaxis**:\n",
    "  ```python\n",
    "  for elem in iterable:\n",
    "      # Kód, amelyet végrehajtunk minden egyes elemre\n",
    "\n",
    "- **`while` ciklus**:  \n",
    "  A `while` ciklus addig ismétli a kódot, amíg egy adott feltétel igaz.\n",
    "\n",
    "  **Szintaxis**:\n",
    "  ```python\n",
    "  while feltétel:\n",
    "     # Kód, amelyet végrehajtunk, amíg a feltétel igaz"
   ]
  },
  {
   "cell_type": "markdown",
   "metadata": {},
   "source": [
    "#### **Függvények**\n",
    "\n",
    "Szükségünk van valamilyen egységre, ahol eltároljuk a hozzárendeléseinket. Ezt programozás nyelvére lefordítva függvényekkel tehetjük meg.\n",
    "\n",
    "A függvények segítségével valamilyen bemeneti változókra tudunk valamilyen kimenetet adni, azaz a függvények egy adott bemenetre egy értéket számítanak ki vagy visszaadnak.\n",
    "\n",
    "#### A függvények szintaxisa:\n",
    "Pythonban a függvényeket a `def` kulcsszóval hozhatjuk létre, majd a függvény neve és a paraméterek következnek. A függvény törzse (amiben a műveletek történnek) a `:` jel utáni sorokban található.\n",
    "**Szintaxis**:\n",
    "  ```python\n",
    "    def függvény_neve(bemenet1, bemenet2, ...):\n",
    "        # Műveletek a bemenetekkel\n",
    "        return kimenet"
   ]
  },
  {
   "cell_type": "markdown",
   "metadata": {},
   "source": [
    "A sorozatunk legyen a következő számtani sorozat:\n",
    "$$\n",
    "a_{n+1} = 2n + 1\n",
    "$$"
   ]
  },
  {
   "cell_type": "markdown",
   "metadata": {},
   "source": [
    "Hozzuk létre a függvényt, ami definiálja a sorozatunkat:"
   ]
  },
  {
   "cell_type": "code",
   "execution_count": 13,
   "metadata": {},
   "outputs": [
    {
     "name": "stdout",
     "output_type": "stream",
     "text": [
      "A sorozat 5 . eleme: 11\n"
     ]
    }
   ],
   "source": [
    "def sorozat_light(n):\n",
    "    a_n = 2*n + 1\n",
    "    return a_n\n",
    "\n",
    "# A sorozat k adik eleme\n",
    "k = 5\n",
    "print(\"A sorozat\", k, \". eleme:\", sorozat_light(k))"
   ]
  },
  {
   "cell_type": "markdown",
   "metadata": {},
   "source": [
    "Itteráljunk végig az elemeken és adjuk hozzá a sorozat változóhoz:"
   ]
  },
  {
   "cell_type": "code",
   "execution_count": 14,
   "metadata": {},
   "outputs": [
    {
     "name": "stdout",
     "output_type": "stream",
     "text": [
      "A sorozat első 30 eleme: [1, 3, 5, 7, 9, 11, 13, 15, 17, 19, 21, 23, 25, 27, 29, 31, 33, 35, 37, 39, 41, 43, 45, 47, 49, 51, 53, 55, 57, 59]\n"
     ]
    }
   ],
   "source": [
    "# határozzuk meg melyik elemig akarjuk kiszámolni a rosorozatot\n",
    "n = 30\n",
    "\n",
    "for i in range(n):\n",
    "    sorozat.append(sorozat_light(i))\n",
    "\n",
    "print(\"A sorozat első\", n, \"eleme:\", sorozat)"
   ]
  },
  {
   "cell_type": "markdown",
   "metadata": {},
   "source": [
    "Az egészet is foglalhatjuk függvénybe:"
   ]
  },
  {
   "cell_type": "code",
   "execution_count": 20,
   "metadata": {},
   "outputs": [
    {
     "name": "stdout",
     "output_type": "stream",
     "text": [
      "A sorozat első 30 eleme: [1, 3, 5, 7, 9, 11, 13, 15, 17, 19, 21, 23, 25, 27, 29, 31, 33, 35, 37, 39, 41, 43, 45, 47, 49, 51, 53, 55, 57, 59]\n"
     ]
    }
   ],
   "source": [
    "def sorozat_pro(n):\n",
    "    sorozat = []\n",
    "    for i in range(n):\n",
    "        a_n = 2*i + 1\n",
    "        sorozat.append(a_n)\n",
    "    return sorozat\n",
    "\n",
    "print(\"A sorozat első\", n, \"eleme:\", sorozat_pro(n))"
   ]
  },
  {
   "cell_type": "markdown",
   "metadata": {},
   "source": [
    "#### **Plotolás**\n",
    "\n",
    "Sokszor nagy segítség valamilyen vizuális kijelzés az értelmezésben. Erre jó eszköz a Pythonban a **Matplotlib** könyvtár, amely segítségével könnyen tudunk különféle függvényeket, sorozatokat és adatokat kirajzolni.\n",
    "\n",
    "A **Matplotlib** a legelterjedtebb könyvtár a Pythonban adatvizualizációs célokra. A leggyakoribb módja a grafikonok készítésének a `pyplot` modul használata, amely a következőképpen használható:"
   ]
  },
  {
   "cell_type": "markdown",
   "metadata": {},
   "source": [
    "1. **Lépés: Modul letöltése**  \n",
    "   Ha nem vagyunk biztosak egy modul pontos nevében, itt meg tudjuk nézni: [https://pypi.org/](https://pypi.org/)\n",
    "\n",
    "   Ehhez a `pip install` parancs használható, és fontos, hogy egy `!` vagy `$` jelet tegyünk elé, jelezve, hogy bash scriptet szándékozunk futtatni.\n"
   ]
  },
  {
   "cell_type": "code",
   "execution_count": 21,
   "metadata": {},
   "outputs": [
    {
     "name": "stdout",
     "output_type": "stream",
     "text": [
      "Defaulting to user installation because normal site-packages is not writeable\n",
      "Collecting matplotlib\n",
      "  Downloading matplotlib-3.10.0-cp312-cp312-win_amd64.whl.metadata (11 kB)\n",
      "Collecting contourpy>=1.0.1 (from matplotlib)\n",
      "  Downloading contourpy-1.3.1-cp312-cp312-win_amd64.whl.metadata (5.4 kB)\n",
      "Collecting cycler>=0.10 (from matplotlib)\n",
      "  Downloading cycler-0.12.1-py3-none-any.whl.metadata (3.8 kB)\n",
      "Collecting fonttools>=4.22.0 (from matplotlib)\n",
      "  Downloading fonttools-4.56.0-cp312-cp312-win_amd64.whl.metadata (103 kB)\n",
      "Collecting kiwisolver>=1.3.1 (from matplotlib)\n",
      "  Downloading kiwisolver-1.4.8-cp312-cp312-win_amd64.whl.metadata (6.3 kB)\n",
      "Collecting numpy>=1.23 (from matplotlib)\n",
      "  Downloading numpy-2.2.2-cp312-cp312-win_amd64.whl.metadata (60 kB)\n",
      "Requirement already satisfied: packaging>=20.0 in c:\\users\\biebe\\appdata\\local\\packages\\pythonsoftwarefoundation.python.3.12_qbz5n2kfra8p0\\localcache\\local-packages\\python312\\site-packages (from matplotlib) (24.2)\n",
      "Collecting pillow>=8 (from matplotlib)\n",
      "  Downloading pillow-11.1.0-cp312-cp312-win_amd64.whl.metadata (9.3 kB)\n",
      "Collecting pyparsing>=2.3.1 (from matplotlib)\n",
      "  Downloading pyparsing-3.2.1-py3-none-any.whl.metadata (5.0 kB)\n",
      "Requirement already satisfied: python-dateutil>=2.7 in c:\\users\\biebe\\appdata\\local\\packages\\pythonsoftwarefoundation.python.3.12_qbz5n2kfra8p0\\localcache\\local-packages\\python312\\site-packages (from matplotlib) (2.9.0.post0)\n",
      "Requirement already satisfied: six>=1.5 in c:\\users\\biebe\\appdata\\local\\packages\\pythonsoftwarefoundation.python.3.12_qbz5n2kfra8p0\\localcache\\local-packages\\python312\\site-packages (from python-dateutil>=2.7->matplotlib) (1.17.0)\n",
      "Downloading matplotlib-3.10.0-cp312-cp312-win_amd64.whl (8.0 MB)\n",
      "   ---------------------------------------- 0.0/8.0 MB ? eta -:--:--\n",
      "   - -------------------------------------- 0.3/8.0 MB ? eta -:--:--\n",
      "   --- ------------------------------------ 0.8/8.0 MB 2.4 MB/s eta 0:00:04\n",
      "   ------ --------------------------------- 1.3/8.0 MB 2.5 MB/s eta 0:00:03\n",
      "   ------- -------------------------------- 1.6/8.0 MB 2.1 MB/s eta 0:00:04\n",
      "   --------- ------------------------------ 1.8/8.0 MB 1.9 MB/s eta 0:00:04\n",
      "   ---------- ----------------------------- 2.1/8.0 MB 1.8 MB/s eta 0:00:04\n",
      "   ----------- ---------------------------- 2.4/8.0 MB 1.7 MB/s eta 0:00:04\n",
      "   ------------- -------------------------- 2.6/8.0 MB 1.6 MB/s eta 0:00:04\n",
      "   -------------- ------------------------- 2.9/8.0 MB 1.6 MB/s eta 0:00:04\n",
      "   --------------- ------------------------ 3.1/8.0 MB 1.6 MB/s eta 0:00:04\n",
      "   ---------------- ----------------------- 3.4/8.0 MB 1.5 MB/s eta 0:00:04\n",
      "   ------------------ --------------------- 3.7/8.0 MB 1.5 MB/s eta 0:00:03\n",
      "   ------------------- -------------------- 3.9/8.0 MB 1.5 MB/s eta 0:00:03\n",
      "   -------------------- ------------------- 4.2/8.0 MB 1.5 MB/s eta 0:00:03\n",
      "   ---------------------- ----------------- 4.5/8.0 MB 1.5 MB/s eta 0:00:03\n",
      "   ----------------------- ---------------- 4.7/8.0 MB 1.4 MB/s eta 0:00:03\n",
      "   ------------------------ --------------- 5.0/8.0 MB 1.4 MB/s eta 0:00:03\n",
      "   -------------------------- ------------- 5.2/8.0 MB 1.4 MB/s eta 0:00:02\n",
      "   --------------------------- ------------ 5.5/8.0 MB 1.4 MB/s eta 0:00:02\n",
      "   ---------------------------- ----------- 5.8/8.0 MB 1.4 MB/s eta 0:00:02\n",
      "   ----------------------------- ---------- 6.0/8.0 MB 1.4 MB/s eta 0:00:02\n",
      "   ------------------------------- -------- 6.3/8.0 MB 1.4 MB/s eta 0:00:02\n",
      "   -------------------------------- ------- 6.6/8.0 MB 1.4 MB/s eta 0:00:02\n",
      "   --------------------------------- ------ 6.8/8.0 MB 1.4 MB/s eta 0:00:01\n",
      "   ----------------------------------- ---- 7.1/8.0 MB 1.4 MB/s eta 0:00:01\n",
      "   ------------------------------------ --- 7.3/8.0 MB 1.4 MB/s eta 0:00:01\n",
      "   ------------------------------------- -- 7.6/8.0 MB 1.4 MB/s eta 0:00:01\n",
      "   ---------------------------------------  7.9/8.0 MB 1.4 MB/s eta 0:00:01\n",
      "   ---------------------------------------- 8.0/8.0 MB 1.4 MB/s eta 0:00:00\n",
      "Downloading contourpy-1.3.1-cp312-cp312-win_amd64.whl (220 kB)\n",
      "Downloading cycler-0.12.1-py3-none-any.whl (8.3 kB)\n",
      "Downloading fonttools-4.56.0-cp312-cp312-win_amd64.whl (2.2 MB)\n",
      "   ---------------------------------------- 0.0/2.2 MB ? eta -:--:--\n",
      "   ---- ----------------------------------- 0.3/2.2 MB ? eta -:--:--\n",
      "   --------- ------------------------------ 0.5/2.2 MB 1.3 MB/s eta 0:00:02\n",
      "   -------------- ------------------------- 0.8/2.2 MB 1.3 MB/s eta 0:00:02\n",
      "   ------------------- -------------------- 1.0/2.2 MB 1.3 MB/s eta 0:00:01\n",
      "   ----------------------- ---------------- 1.3/2.2 MB 1.3 MB/s eta 0:00:01\n",
      "   ---------------------------- ----------- 1.6/2.2 MB 1.3 MB/s eta 0:00:01\n",
      "   --------------------------------- ------ 1.8/2.2 MB 1.3 MB/s eta 0:00:01\n",
      "   -------------------------------------- - 2.1/2.2 MB 1.3 MB/s eta 0:00:01\n",
      "   ---------------------------------------- 2.2/2.2 MB 1.3 MB/s eta 0:00:00\n",
      "Downloading kiwisolver-1.4.8-cp312-cp312-win_amd64.whl (71 kB)\n",
      "Downloading numpy-2.2.2-cp312-cp312-win_amd64.whl (12.6 MB)\n",
      "   ---------------------------------------- 0.0/12.6 MB ? eta -:--:--\n",
      "    --------------------------------------- 0.3/12.6 MB ? eta -:--:--\n",
      "   - -------------------------------------- 0.5/12.6 MB 1.3 MB/s eta 0:00:10\n",
      "   -- ------------------------------------- 0.8/12.6 MB 1.2 MB/s eta 0:00:10\n",
      "   -- ------------------------------------- 0.8/12.6 MB 1.2 MB/s eta 0:00:10\n",
      "   ---- ----------------------------------- 1.3/12.6 MB 1.2 MB/s eta 0:00:10\n",
      "   ---- ----------------------------------- 1.6/12.6 MB 1.2 MB/s eta 0:00:09\n",
      "   ----- ---------------------------------- 1.8/12.6 MB 1.3 MB/s eta 0:00:09\n",
      "   ------ --------------------------------- 2.1/12.6 MB 1.2 MB/s eta 0:00:09\n",
      "   ------- -------------------------------- 2.4/12.6 MB 1.3 MB/s eta 0:00:09\n",
      "   -------- ------------------------------- 2.6/12.6 MB 1.3 MB/s eta 0:00:08\n",
      "   --------- ------------------------------ 2.9/12.6 MB 1.3 MB/s eta 0:00:08\n",
      "   --------- ------------------------------ 3.1/12.6 MB 1.3 MB/s eta 0:00:08\n",
      "   ---------- ----------------------------- 3.4/12.6 MB 1.3 MB/s eta 0:00:08\n",
      "   ----------- ---------------------------- 3.7/12.6 MB 1.3 MB/s eta 0:00:08\n",
      "   ------------ --------------------------- 3.9/12.6 MB 1.3 MB/s eta 0:00:07\n",
      "   ------------- -------------------------- 4.2/12.6 MB 1.3 MB/s eta 0:00:07\n",
      "   -------------- ------------------------- 4.5/12.6 MB 1.3 MB/s eta 0:00:07\n",
      "   -------------- ------------------------- 4.7/12.6 MB 1.3 MB/s eta 0:00:07\n",
      "   --------------- ------------------------ 5.0/12.6 MB 1.3 MB/s eta 0:00:07\n",
      "   ---------------- ----------------------- 5.2/12.6 MB 1.3 MB/s eta 0:00:06\n",
      "   ----------------- ---------------------- 5.5/12.6 MB 1.3 MB/s eta 0:00:06\n",
      "   ------------------ --------------------- 5.8/12.6 MB 1.3 MB/s eta 0:00:06\n",
      "   ------------------- -------------------- 6.0/12.6 MB 1.3 MB/s eta 0:00:06\n",
      "   ------------------- -------------------- 6.3/12.6 MB 1.3 MB/s eta 0:00:05\n",
      "   ------------------- -------------------- 6.3/12.6 MB 1.3 MB/s eta 0:00:05\n",
      "   -------------------- ------------------- 6.6/12.6 MB 1.3 MB/s eta 0:00:05\n",
      "   --------------------- ------------------ 6.8/12.6 MB 1.3 MB/s eta 0:00:05\n",
      "   ----------------------- ---------------- 7.3/12.6 MB 1.3 MB/s eta 0:00:05\n",
      "   ----------------------- ---------------- 7.3/12.6 MB 1.3 MB/s eta 0:00:05\n",
      "   ------------------------ --------------- 7.6/12.6 MB 1.3 MB/s eta 0:00:04\n",
      "   ------------------------ --------------- 7.9/12.6 MB 1.3 MB/s eta 0:00:04\n",
      "   ------------------------- -------------- 8.1/12.6 MB 1.3 MB/s eta 0:00:04\n",
      "   -------------------------- ------------- 8.4/12.6 MB 1.3 MB/s eta 0:00:04\n",
      "   --------------------------- ------------ 8.7/12.6 MB 1.3 MB/s eta 0:00:04\n",
      "   ----------------------------- ---------- 9.2/12.6 MB 1.3 MB/s eta 0:00:03\n",
      "   ----------------------------- ---------- 9.2/12.6 MB 1.3 MB/s eta 0:00:03\n",
      "   ------------------------------ --------- 9.7/12.6 MB 1.3 MB/s eta 0:00:03\n",
      "   ------------------------------- -------- 10.0/12.6 MB 1.3 MB/s eta 0:00:03\n",
      "   ------------------------------- -------- 10.0/12.6 MB 1.3 MB/s eta 0:00:03\n",
      "   --------------------------------- ------ 10.5/12.6 MB 1.3 MB/s eta 0:00:02\n",
      "   --------------------------------- ------ 10.5/12.6 MB 1.3 MB/s eta 0:00:02\n",
      "   ---------------------------------- ----- 10.7/12.6 MB 1.3 MB/s eta 0:00:02\n",
      "   ---------------------------------- ----- 11.0/12.6 MB 1.3 MB/s eta 0:00:02\n",
      "   ----------------------------------- ---- 11.3/12.6 MB 1.3 MB/s eta 0:00:02\n",
      "   ------------------------------------ --- 11.5/12.6 MB 1.3 MB/s eta 0:00:01\n",
      "   ------------------------------------- -- 11.8/12.6 MB 1.3 MB/s eta 0:00:01\n",
      "   -------------------------------------- - 12.1/12.6 MB 1.3 MB/s eta 0:00:01\n",
      "   ---------------------------------------  12.6/12.6 MB 1.3 MB/s eta 0:00:01\n",
      "   ---------------------------------------- 12.6/12.6 MB 1.3 MB/s eta 0:00:00\n",
      "Downloading pillow-11.1.0-cp312-cp312-win_amd64.whl (2.6 MB)\n",
      "   ---------------------------------------- 0.0/2.6 MB ? eta -:--:--\n",
      "   --- ------------------------------------ 0.3/2.6 MB ? eta -:--:--\n",
      "   ------- -------------------------------- 0.5/2.6 MB 1.3 MB/s eta 0:00:02\n",
      "   ----------- ---------------------------- 0.8/2.6 MB 1.3 MB/s eta 0:00:02\n",
      "   --------------- ------------------------ 1.0/2.6 MB 1.3 MB/s eta 0:00:02\n",
      "   ------------------- -------------------- 1.3/2.6 MB 1.3 MB/s eta 0:00:02\n",
      "   ----------------------- ---------------- 1.6/2.6 MB 1.3 MB/s eta 0:00:01\n",
      "   --------------------------- ------------ 1.8/2.6 MB 1.3 MB/s eta 0:00:01\n",
      "   ------------------------------- -------- 2.1/2.6 MB 1.3 MB/s eta 0:00:01\n",
      "   ----------------------------------- ---- 2.4/2.6 MB 1.3 MB/s eta 0:00:01\n",
      "   ---------------------------------------- 2.6/2.6 MB 1.3 MB/s eta 0:00:00\n",
      "Downloading pyparsing-3.2.1-py3-none-any.whl (107 kB)\n",
      "Installing collected packages: pyparsing, pillow, numpy, kiwisolver, fonttools, cycler, contourpy, matplotlib\n",
      "Successfully installed contourpy-1.3.1 cycler-0.12.1 fonttools-4.56.0 kiwisolver-1.4.8 matplotlib-3.10.0 numpy-2.2.2 pillow-11.1.0 pyparsing-3.2.1\n"
     ]
    },
    {
     "name": "stderr",
     "output_type": "stream",
     "text": [
      "\n",
      "[notice] A new release of pip is available: 24.3.1 -> 25.0\n",
      "[notice] To update, run: C:\\Users\\biebe\\AppData\\Local\\Microsoft\\WindowsApps\\PythonSoftwareFoundation.Python.3.12_qbz5n2kfra8p0\\python.exe -m pip install --upgrade pip\n"
     ]
    }
   ],
   "source": [
    "!pip install matplotlib"
   ]
  },
  {
   "cell_type": "markdown",
   "metadata": {},
   "source": [
    "2. **Lépés: Import**\n",
    "\n",
    "    A külső könyvtárak gyakorlatilag könyvtárak és függvények összességét foglalják magukba. Ahhoz, hogy a fordítónk tudja, hol keresse ezeket, meg kell adnunk az importálás során.\n",
    "\n",
    "    Importáláskor lehetőségünk van rövidítések megadására is.\n",
    "\n",
    "    **Szintaxis**:\n",
    "\n",
    "    ```python\n",
    "    # Szokványos import\n",
    "    import könyvtárnév\n",
    "\n",
    "    # Import rövidítéssel\n",
    "    import könyvtárnév as rövidítés\n"
   ]
  },
  {
   "cell_type": "code",
   "execution_count": 23,
   "metadata": {},
   "outputs": [],
   "source": [
    "import matplotlib.pyplot as plt # nem kötelező ezt a rövidítést használni, de szokás"
   ]
  },
  {
   "cell_type": "markdown",
   "metadata": {},
   "source": [
    "3. **Lépés: Adatok meghatározása**\n",
    "\n",
    "    A plotoláshoz minden adatot listaként kell létrehoznunk."
   ]
  },
  {
   "cell_type": "code",
   "execution_count": 24,
   "metadata": {},
   "outputs": [],
   "source": [
    "# A grafikonunk y tengelyének adatai\n",
    "y = sorozat_pro(n)\n",
    "# A grafikonunk x tengelyének adatai\n",
    "x = range(n)"
   ]
  },
  {
   "cell_type": "markdown",
   "metadata": {},
   "source": [
    "4. Lépés: Grafikon kirajzolása\n",
    "    A `plot()` függvénnyel tudjuk kirajzolni a grafikont."
   ]
  },
  {
   "cell_type": "markdown",
   "metadata": {},
   "source": [
    "Vonaldiagramm:"
   ]
  },
  {
   "cell_type": "code",
   "execution_count": 25,
   "metadata": {},
   "outputs": [
    {
     "data": {
      "image/png": "[encoded data removed]",
      "text/plain": [
       "<Figure size 640x480 with 1 Axes>"
      ]
     },
     "metadata": {},
     "output_type": "display_data"
    }
   ],
   "source": [
    "plt.plot(x, y)  # Vonaldiagram\n",
    "plt.title('Egyszerű Grafikon')  # Cím\n",
    "plt.xlabel('X tengely')  # X tengely felirata\n",
    "plt.ylabel('Y tengely')  # Y tengely felirata\n",
    "plt.grid(True)  # Rács megjelenítése\n",
    "plt.show()  # A grafikon megjelenítése"
   ]
  },
  {
   "cell_type": "markdown",
   "metadata": {},
   "source": [
    "Pontdiagramm:"
   ]
  },
  {
   "cell_type": "code",
   "execution_count": 26,
   "metadata": {},
   "outputs": [
    {
     "data": {
      "image/png": "[encoded data removed]",
      "text/plain": [
       "<Figure size 640x480 with 1 Axes>"
      ]
     },
     "metadata": {},
     "output_type": "display_data"
    }
   ],
   "source": [
    "plt.scatter(x, y)\n",
    "plt.show()\n",
    "# többi paraméter hasonlóa mint a plot esetén"
   ]
  },
  {
   "cell_type": "markdown",
   "metadata": {},
   "source": [
    "## **3. Sorozatok határértéke**\n",
    "\n",
    "- **Definíció (Sorozat határértéke):** Egy $a_n$ sorozat határértéke $L$, ha minden $\\varepsilon > 0$ esetén létezik egy $N$ természetes szám, hogy ha $n > N$, akkor $|a_n - L| < \\varepsilon$.\n"
   ]
  },
  {
   "cell_type": "markdown",
   "metadata": {},
   "source": [
    "### **Sorozat határéréke analitikusan**\n",
    "\n",
    "Határozzuk meg, hogy egy adott $\\varepsilon$ sugár környezetbe melyik n elem után lesz benne a sorozatunk. Legyen a sorozatunk a következő:\n",
    "\n",
    "$$\n",
    "\\lim_{n \\to \\infty} \\frac{n^2 - 3n + 4}{n^2 - 1}\n",
    "$$\n",
    "\n",
    "#### **1. lépés: Osztás a legnagyobb hatvánnyal**  \n",
    "Mivel a számláló és a nevező legmagasabb fokszámú tagja is $ n^2 $, minden tagot elosztunk $ n^2 $-tel:\n",
    "\n",
    "$$\n",
    "\\frac{n^2 - 3n + 4}{n^2 - 1} = \\frac{1 - \\frac{3}{n} + \\frac{4}{n^2}}{1 - \\frac{1}{n^2}}\n",
    "$$\n",
    "\n",
    "#### **2. lépés: Határérték vizsgálata**  \n",
    "- Ha $ n \\to \\infty $, akkor $ \\frac{3}{n} $ és $ \\frac{4}{n^2} $ **nullához tartanak**.\n",
    "- Hasonlóan, a nevezőben $ \\frac{1}{n^2} $ **nullához tart**.\n",
    "\n",
    "Ekkor az egész kifejezés egyszerűsödik:\n",
    "\n",
    "$$\n",
    "\\frac{1 - 0 + 0}{1 - 0} = \\frac{1}{1} = 1\n",
    "$$\n",
    "\n",
    "#### **Végső eredmény:**  \n",
    "$$\n",
    "\\lim_{n \\to \\infty} \\frac{n^2 - 3n + 4}{n^2 - 1} = 1\n",
    "$$\n",
    "\n",
    "\n",
    "#### **Határozzuk meg az N küszöbidexet.**\n",
    "\n",
    "#### **1. lépés: A különbség kiszámítása a határértéktől**  \n",
    "Vizsgáljuk meg:\n",
    "\n",
    "$$\n",
    "\\left| a_n - 1 \\right| = \\left| \\frac{n^2 - 3n + 4}{n^2 - 1} - 1 \\right|\n",
    "$$\n",
    "\n",
    "Átalakítjuk a törtet:\n",
    "\n",
    "$$\n",
    "\\left| \\frac{n^2 - 3n + 4 - (n^2 - 1)}{n^2 - 1} \\right|\n",
    "$$\n",
    "\n",
    "$$\n",
    "= \\left| \\frac{n^2 - 3n + 4 - n^2 + 1}{n^2 - 1} \\right|\n",
    "$$\n",
    "\n",
    "$$\n",
    "= \\left| \\frac{-3n + 5}{n^2 - 1} \\right|\n",
    "$$\n",
    "\n",
    "#### **2. lépés: A kifejezés felső becslése**  \n",
    "Nagy $ n $-re közelítéssel becsüljük:\n",
    "\n",
    "$$\n",
    "\\left| \\frac{-3n + 5}{n^2 - 1} \\right| \\leq \\frac{|3n| + 5}{n^2 - 1}\n",
    "$$\n",
    "\n",
    "Mivel nagy $ n $ esetén a $ 5 $ elhanyagolható, közelíthetünk:\n",
    "\n",
    "$$\n",
    "\\frac{3n}{n^2 - 1} = \\frac{3}{n - \\frac{1}{n}}\n",
    "$$\n",
    "\n",
    "Mivel $ \\frac{1}{n} $ kicsi nagy $ n $-re, tovább egyszerűsítünk:\n",
    "\n",
    "$$\n",
    "\\frac{3}{n - 1} \\approx \\frac{3}{n}\n",
    "$$\n",
    "\n",
    "#### **3. lépés: $ \\varepsilon $ kifejezése $ n $ függvényében**  \n",
    "Adott $ \\varepsilon > 0 $ esetén a következőt kell teljesíteni:\n",
    "\n",
    "$$\n",
    "\\frac{3}{n} < \\varepsilon\n",
    "$$\n",
    "\n",
    "Megoldva $ n $-re:\n",
    "\n",
    "$$\n",
    "n > \\frac{3}{\\varepsilon}\n",
    "$$\n",
    "\n",
    "#### **Következtetés**  \n",
    "Bármely adott $\\varepsilon > 0$ esetén, ha $N$-t úgy választjuk, hogy:\n",
    "\n",
    "$$\n",
    "N > \\frac{3}{\\varepsilon}\n",
    "$$"
   ]
  },
  {
   "cell_type": "code",
   "execution_count": 45,
   "metadata": {},
   "outputs": [
    {
     "name": "stdout",
     "output_type": "stream",
     "text": [
      "A sorozat 15. eleme fog a konvergencia tartományba kerülni.\n"
     ]
    }
   ],
   "source": [
    "# határozzuk meg így melyik elemig kell kiszámolni a sorozatot, hogy a konvergencia tartományba kerüljünk\n",
    "\n",
    "epsilon = float(input(\"Add meg az epsilon értéket: \"))\n",
    "N = int(3/epsilon) + 1\n",
    "print(\"A sorozat \"+ str(N) + \". eleme fog a konvergencia tartományba kerülni.\")"
   ]
  },
  {
   "cell_type": "markdown",
   "metadata": {},
   "source": [
    "### **Sorozat határértéke közlítéssel**\n",
    "\n",
    "Vizsgáljuk ugyan ezt a feladatot: \n",
    "\n",
    "$$\n",
    "\\lim_{n \\to \\infty} \\frac{n^2 - 3n + 4}{n^2 - 1}\n",
    "$$\n",
    "\n",
    "Itteráljon addig végig a sorozaton, ameddig a konvergencia tartományba be nem kerülünk."
   ]
  },
  {
   "cell_type": "code",
   "execution_count": 64,
   "metadata": {},
   "outputs": [
    {
     "name": "stdout",
     "output_type": "stream",
     "text": [
      "A 15. elemtől esik bele a konvergencia tartományba\n"
     ]
    }
   ],
   "source": [
    "def sorozat_e(n):\n",
    "    a_n = (n**2-3*n + 4)/(n**2-1)\n",
    "    return a_n\n",
    "\n",
    "def limit_s(epsilon):\n",
    "    error = 10000000\n",
    "    limit = 1\n",
    "    i = 0\n",
    "    while (error>epsilon):\n",
    "        if (i != 1):\n",
    "            error = abs(sorozat_e(i) - limit)\n",
    "        i +=1\n",
    "\n",
    "    print(\"A \"+ str(i) + \". elemtől esik bele a konvergencia tartományba\")\n",
    "\n",
    "limit_s(epsilon)"
   ]
  },
  {
   "cell_type": "markdown",
   "metadata": {},
   "source": [
    "**Vizuálisan:**"
   ]
  },
  {
   "cell_type": "code",
   "execution_count": 71,
   "metadata": {},
   "outputs": [
    {
     "data": {
      "image/png": "[encoded data removed]",
      "text/plain": [
       "<Figure size 640x480 with 1 Axes>"
      ]
     },
     "metadata": {},
     "output_type": "display_data"
    }
   ],
   "source": [
    "def sorozat(n):\n",
    "    sorozat = []\n",
    "    for i in range(n):\n",
    "        a_n = (n**2-3*n + 4)/(n**2-1)\n",
    "        sorozat.append(a_n)\n",
    "    return sorozat\n",
    "\n",
    "limit = 1\n",
    "n = 20\n",
    "y = sorozat(n)\n",
    "x = range(n)\n",
    "errorRangeTop = []\n",
    "errorRangeBottom = []\n",
    "\n",
    "for i in range(n):\n",
    "    errorRangeTop.append(limit + epsilon)\n",
    "    errorRangeBottom.append(limit - epsilon)\n",
    "\n",
    "\n",
    "plt.scatter(x, y)\n",
    "plt.plot(x, errorRangeTop)\n",
    "plt.plot(x, errorRangeBottom)\n",
    "plt.title('Sorozat határértéke') \n",
    "plt.xlabel('n')\n",
    "plt.ylabel('a_n') \n",
    "plt.grid(True)\n",
    "plt.show()"
   ]
  },
  {
   "cell_type": "markdown",
   "metadata": {},
   "source": [
    "## **4. Házi feladat**\n",
    "\n",
    "Készítsen el egy algoritmust, ami meghatározza a határértéket a definició kihasználásával, azaz keressünk egy olyan $N$ egész számot, amely esetén minden $ n > N $ -re beleesünk a véletlenszerűen kisorsolt $ \\varepsilon > 0 $ (számunkra elegendő pl 1000 db sorsolás is) környezetébe az analitikusan kiszámított határértéknek. "
   ]
  }
 ],
 "metadata": {
  "kernelspec": {
   "display_name": "Python 3",
   "language": "python",
   "name": "python3"
  },
  "language_info": {
   "codemirror_mode": {
    "name": "ipython",
    "version": 3
   },
   "file_extension": ".py",
   "mimetype": "text/x-python",
   "name": "python",
   "nbconvert_exporter": "python",
   "pygments_lexer": "ipython3",
   "version": "3.12.8"
  }
 },
 "nbformat": 4,
 "nbformat_minor": 2
}
